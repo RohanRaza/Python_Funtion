{
 "cells": [
  {
   "cell_type": "code",
   "execution_count": 1,
   "id": "5106d45a",
   "metadata": {},
   "outputs": [],
   "source": [
    "# Delcaration of function\n",
    "\n",
    "def add(x,y): # parameters\n",
    "    addition = x + y\n",
    "    return addition"
   ]
  },
  {
   "cell_type": "code",
   "execution_count": 3,
   "id": "82fed83f",
   "metadata": {},
   "outputs": [
    {
     "data": {
      "text/plain": [
       "11"
      ]
     },
     "execution_count": 3,
     "metadata": {},
     "output_type": "execute_result"
    }
   ],
   "source": [
    "add(4,7) # Postional Arguments"
   ]
  },
  {
   "cell_type": "code",
   "execution_count": 4,
   "id": "0d54590f",
   "metadata": {},
   "outputs": [
    {
     "data": {
      "text/plain": [
       "13"
      ]
     },
     "execution_count": 4,
     "metadata": {},
     "output_type": "execute_result"
    }
   ],
   "source": [
    "add(4,9)"
   ]
  },
  {
   "cell_type": "code",
   "execution_count": 5,
   "id": "b1501029",
   "metadata": {},
   "outputs": [],
   "source": [
    "def sqr(x):\n",
    "    return x**2, x*x"
   ]
  },
  {
   "cell_type": "code",
   "execution_count": 6,
   "id": "4bf45d94",
   "metadata": {},
   "outputs": [
    {
     "data": {
      "text/plain": [
       "(4, 4)"
      ]
     },
     "execution_count": 6,
     "metadata": {},
     "output_type": "execute_result"
    }
   ],
   "source": [
    "sqr(2)"
   ]
  },
  {
   "cell_type": "code",
   "execution_count": 7,
   "id": "33499602",
   "metadata": {},
   "outputs": [
    {
     "data": {
      "text/plain": [
       "(256, 256)"
      ]
     },
     "execution_count": 7,
     "metadata": {},
     "output_type": "execute_result"
    }
   ],
   "source": [
    "sqr(16)"
   ]
  },
  {
   "cell_type": "code",
   "execution_count": 8,
   "id": "53feabfe",
   "metadata": {},
   "outputs": [],
   "source": [
    "def test(a,b,e):\n",
    "    return a + b, a - e"
   ]
  },
  {
   "cell_type": "code",
   "execution_count": 9,
   "id": "2958afc2",
   "metadata": {},
   "outputs": [
    {
     "data": {
      "text/plain": [
       "(11, 4)"
      ]
     },
     "execution_count": 9,
     "metadata": {},
     "output_type": "execute_result"
    }
   ],
   "source": [
    "test(5,6,1)"
   ]
  },
  {
   "cell_type": "code",
   "execution_count": 10,
   "id": "7e944dd4",
   "metadata": {},
   "outputs": [
    {
     "data": {
      "text/plain": [
       "(11, 4)"
      ]
     },
     "execution_count": 10,
     "metadata": {},
     "output_type": "execute_result"
    }
   ],
   "source": [
    "test(b = 6, a = 5, e = 1) # keyword arguments"
   ]
  },
  {
   "cell_type": "code",
   "execution_count": 11,
   "id": "fa8d2f53",
   "metadata": {},
   "outputs": [],
   "source": [
    "test?"
   ]
  },
  {
   "cell_type": "code",
   "execution_count": null,
   "id": "ac88d749",
   "metadata": {},
   "outputs": [],
   "source": [
    "test()"
   ]
  },
  {
   "cell_type": "code",
   "execution_count": 12,
   "id": "6fca57c4",
   "metadata": {},
   "outputs": [],
   "source": [
    "def test(a,b,e):\n",
    "    \"Hello World :)\"\n",
    "    return a + b, a - e"
   ]
  },
  {
   "cell_type": "code",
   "execution_count": 13,
   "id": "304c715a",
   "metadata": {},
   "outputs": [
    {
     "data": {
      "text/plain": [
       "(6, 1)"
      ]
     },
     "execution_count": 13,
     "metadata": {},
     "output_type": "execute_result"
    }
   ],
   "source": [
    "test(4, e = 3, b = 2) # mix arguments (first postional argument then keywords arguments)"
   ]
  },
  {
   "cell_type": "code",
   "execution_count": 15,
   "id": "d89dc6fd",
   "metadata": {},
   "outputs": [],
   "source": [
    "def tax(salary, tax_rate = 0.05): # default arguments\n",
    "    return salary * tax_rate"
   ]
  },
  {
   "cell_type": "code",
   "execution_count": 16,
   "id": "8e08f287",
   "metadata": {},
   "outputs": [
    {
     "data": {
      "text/plain": [
       "500.0"
      ]
     },
     "execution_count": 16,
     "metadata": {},
     "output_type": "execute_result"
    }
   ],
   "source": [
    "tax(10000)"
   ]
  },
  {
   "cell_type": "code",
   "execution_count": 17,
   "id": "c79d63b3",
   "metadata": {},
   "outputs": [
    {
     "data": {
      "text/plain": [
       "1000.0"
      ]
     },
     "execution_count": 17,
     "metadata": {},
     "output_type": "execute_result"
    }
   ],
   "source": [
    "tax(10000, 0.10)"
   ]
  },
  {
   "cell_type": "code",
   "execution_count": 18,
   "id": "3b0ec4a8",
   "metadata": {},
   "outputs": [
    {
     "data": {
      "text/plain": [
       "500.0"
      ]
     },
     "execution_count": 18,
     "metadata": {},
     "output_type": "execute_result"
    }
   ],
   "source": [
    "tax(10000)"
   ]
  },
  {
   "cell_type": "code",
   "execution_count": 20,
   "id": "8dd22461",
   "metadata": {},
   "outputs": [],
   "source": [
    "from csv import reader"
   ]
  },
  {
   "cell_type": "code",
   "execution_count": 21,
   "id": "c7d1b7a6",
   "metadata": {},
   "outputs": [],
   "source": [
    "open_file = open(\"AppleStore.csv\", encoding = \"utf-8\")\n",
    "read_file = reader(open_file)\n",
    "applestore = list(read_file)"
   ]
  },
  {
   "cell_type": "code",
   "execution_count": 22,
   "id": "a31388bc",
   "metadata": {},
   "outputs": [],
   "source": [
    "header = applestore[0]\n",
    "applestore = applestore[1:]"
   ]
  },
  {
   "cell_type": "markdown",
   "id": "77dfee4f",
   "metadata": {},
   "source": [
    "* Create a function for frequency table\n",
    "    1. first parameter: dataset\n",
    "    2. second parameter: col index number "
   ]
  },
  {
   "cell_type": "code",
   "execution_count": 28,
   "id": "fff7e823",
   "metadata": {},
   "outputs": [],
   "source": [
    "def freq(dataset, index):\n",
    "    dictionary = {}\n",
    "    for i in dataset:\n",
    "        value = i[index]\n",
    "        if value not in dictionary:\n",
    "            dictionary[value] = 1\n",
    "        else:\n",
    "            dictionary[value] += 1\n",
    "    \n",
    "    return dictionary"
   ]
  },
  {
   "cell_type": "code",
   "execution_count": 29,
   "id": "1f842d41",
   "metadata": {},
   "outputs": [
    {
     "data": {
      "text/plain": [
       "{'Social Networking': 167,\n",
       " 'Photo & Video': 349,\n",
       " 'Games': 3862,\n",
       " 'Music': 138,\n",
       " 'Reference': 64,\n",
       " 'Health & Fitness': 180,\n",
       " 'Weather': 72,\n",
       " 'Utilities': 248,\n",
       " 'Travel': 81,\n",
       " 'Shopping': 122,\n",
       " 'News': 75,\n",
       " 'Navigation': 46,\n",
       " 'Lifestyle': 144,\n",
       " 'Entertainment': 535,\n",
       " 'Food & Drink': 63,\n",
       " 'Sports': 114,\n",
       " 'Book': 112,\n",
       " 'Finance': 104,\n",
       " 'Education': 453,\n",
       " 'Productivity': 178,\n",
       " 'Business': 57,\n",
       " 'Catalogs': 10,\n",
       " 'Medical': 23}"
      ]
     },
     "execution_count": 29,
     "metadata": {},
     "output_type": "execute_result"
    }
   ],
   "source": [
    "freq(applestore, 11)"
   ]
  },
  {
   "cell_type": "code",
   "execution_count": 30,
   "id": "3dffdb46",
   "metadata": {},
   "outputs": [
    {
     "data": {
      "text/plain": [
       "{'3.5': 702,\n",
       " '4.5': 2663,\n",
       " '4': 1626,\n",
       " '3': 383,\n",
       " '5': 492,\n",
       " '2.5': 196,\n",
       " '2': 106,\n",
       " '1.5': 56,\n",
       " '1': 44,\n",
       " '0': 929}"
      ]
     },
     "execution_count": 30,
     "metadata": {},
     "output_type": "execute_result"
    }
   ],
   "source": [
    "freq(applestore, 7)"
   ]
  },
  {
   "cell_type": "code",
   "execution_count": 32,
   "id": "25bda08d",
   "metadata": {},
   "outputs": [
    {
     "data": {
      "text/plain": [
       "4"
      ]
     },
     "execution_count": 32,
     "metadata": {},
     "output_type": "execute_result"
    }
   ],
   "source": [
    "header.index(\"price\")"
   ]
  },
  {
   "cell_type": "markdown",
   "id": "3ec9a74c",
   "metadata": {},
   "source": [
    "* Create a function for frequency table\n",
    "    1. first parameter: dataset\n",
    "    2. second parameter: col name"
   ]
  },
  {
   "cell_type": "code",
   "execution_count": null,
   "id": "62385803",
   "metadata": {},
   "outputs": [],
   "source": []
  }
 ],
 "metadata": {
  "kernelspec": {
   "display_name": "Python 3",
   "language": "python",
   "name": "python3"
  },
  "language_info": {
   "codemirror_mode": {
    "name": "ipython",
    "version": 3
   },
   "file_extension": ".py",
   "mimetype": "text/x-python",
   "name": "python",
   "nbconvert_exporter": "python",
   "pygments_lexer": "ipython3",
   "version": "3.8.8"
  }
 },
 "nbformat": 4,
 "nbformat_minor": 5
}
